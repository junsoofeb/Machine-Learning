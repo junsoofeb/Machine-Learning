{
 "cells": [
  {
   "cell_type": "code",
   "execution_count": 18,
   "metadata": {},
   "outputs": [],
   "source": [
    "import tensorflow as tf"
   ]
  },
  {
   "cell_type": "code",
   "execution_count": 19,
   "metadata": {},
   "outputs": [],
   "source": [
    "graph = tf.Graph()"
   ]
  },
  {
   "cell_type": "code",
   "execution_count": 20,
   "metadata": {},
   "outputs": [],
   "source": [
    "with graph.as_default():\n",
    "    \n",
    "    with tf.name_scope('variables'):\n",
    "        global_step = tf.Variable(0,dtype=tf.int32,trainable=False,name='global_step')\n",
    "        total_output = tf.Variable(0.0,dtype=tf.float32,trainable=False,name='total_output')\n",
    "        \n",
    "\n",
    "    with tf.name_scope('transformation'):\n",
    "        \n",
    "        with tf.name_scope('input'):\n",
    "            a = tf.placeholder(tf.float32,shape=[None],name='input_placeholder_a')\n",
    "            \n",
    "        with tf.name_scope('intermediate_layer'):\n",
    "            b = tf.reduce_prod(a,name='product_b')\n",
    "            c = tf.reduce_sum(a,name='sum_c')\n",
    "            \n",
    "        with tf.name_scope('output'):\n",
    "            output = tf.add(b,c,name='output')\n",
    "            \n",
    "    with tf.name_scope('update'):\n",
    "        update_total = total_output.assign_add(output)\n",
    "        increment_step = global_step.assign_add(1)\n",
    "    \n",
    "    with tf.name_scope('summaries'):\n",
    "        avg = tf.div(update_total, tf.cast(increment_step, tf.float32),name='average')\n",
    "        tf.summary.scalar('output_summary',output)\n",
    "        tf.summary.scalar('total_summary', update_total)\n",
    "        tf.summary.scalar('average_summary',avg)\n",
    "        \n",
    "    with tf.name_scope('global_ops'):\n",
    "        init = tf.global_variables_initializer()\n",
    "        merged_summaries = tf.summary.merge_all()"
   ]
  },
  {
   "cell_type": "code",
   "execution_count": 21,
   "metadata": {},
   "outputs": [],
   "source": [
    "sess = tf.Session(graph=graph)\n",
    "writer = tf.summary.FileWriter('./g1',graph)"
   ]
  },
  {
   "cell_type": "code",
   "execution_count": 22,
   "metadata": {},
   "outputs": [],
   "source": [
    "sess.run(init)"
   ]
  },
  {
   "cell_type": "code",
   "execution_count": 23,
   "metadata": {},
   "outputs": [],
   "source": [
    "def run_graph(input_tensor):\n",
    "    feed_dict = {a : input_tensor}\n",
    "    _,step, summary = sess.run([output, increment_step,\n",
    "    merged_summaries],feed_dict=feed_dict)\n",
    "    writer.add_summary(summary, global_step=step)"
   ]
  },
  {
   "cell_type": "code",
   "execution_count": 24,
   "metadata": {},
   "outputs": [],
   "source": [
    "run_graph([2])\n",
    "run_graph([3,1,3,3])\n",
    "run_graph([8])\n",
    "run_graph([1,2,3])\n",
    "run_graph([11,4])\n",
    "run_graph([4,1])\n",
    "run_graph([7,3,1])\n",
    "run_graph([6,3])\n",
    "run_graph([0,2])\n",
    "run_graph([4,5,6])\n",
    "writer.flush()\n",
    "writer.close()\n",
    "sess.close()"
   ]
  },
  {
   "cell_type": "code",
   "execution_count": null,
   "metadata": {},
   "outputs": [],
   "source": []
  }
 ],
 "metadata": {
  "kernelspec": {
   "display_name": "tf",
   "language": "python",
   "name": "tensorflow"
  },
  "language_info": {
   "codemirror_mode": {
    "name": "ipython",
    "version": 3
   },
   "file_extension": ".py",
   "mimetype": "text/x-python",
   "name": "python",
   "nbconvert_exporter": "python",
   "pygments_lexer": "ipython3",
   "version": "3.6.8"
  }
 },
 "nbformat": 4,
 "nbformat_minor": 2
}
