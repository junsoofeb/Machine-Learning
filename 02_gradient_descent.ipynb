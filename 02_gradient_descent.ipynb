{
 "cells": [
  {
   "cell_type": "code",
   "execution_count": 1,
   "metadata": {},
   "outputs": [],
   "source": [
    "import tensorflow as tf"
   ]
  },
  {
   "cell_type": "code",
   "execution_count": 3,
   "metadata": {},
   "outputs": [],
   "source": [
    "# [공부한 시간, 실제 점수]\n",
    "\n",
    "data = [[2, 81], [4, 93], [6, 91], [8, 97]]\n",
    "x = [i[0] for i in data]\n",
    "y = [i[1] for i in data]"
   ]
  },
  {
   "cell_type": "code",
   "execution_count": 4,
   "metadata": {},
   "outputs": [],
   "source": [
    "# W와 b값을 랜덤하게 정함. W의 범위는 0~10 사이이며, b의 범위는 0~100사이\n",
    "\n",
    "W = tf.Variable(tf.random_uniform([1], 0, 10, dtype = tf.float64, seed = 0))\n",
    "b = tf.Variable(tf.random_uniform([1], 0, 100, dtype = tf.float64, seed = 0))"
   ]
  },
  {
   "cell_type": "code",
   "execution_count": 5,
   "metadata": {},
   "outputs": [],
   "source": [
    "# y에 대한 일차 방정식\n",
    "\n",
    "y_predict = W*x + b"
   ]
  },
  {
   "cell_type": "code",
   "execution_count": 6,
   "metadata": {},
   "outputs": [],
   "source": [
    "# rmse함수, 오차를 계산함\n",
    "\n",
    "rmse = tf.sqrt(tf.reduce_mean(tf.square(y - y_predict)))\n",
    "\n",
    "# 학습률\n",
    "\n",
    "learning_rate = 0.1\n",
    "\n",
    "# 오차 최소값 찾기\n",
    "\n",
    "loss = tf.train.GradientDescentOptimizer(learning_rate).minimize(rmse)"
   ]
  },
  {
   "cell_type": "code",
   "execution_count": 13,
   "metadata": {},
   "outputs": [
    {
     "name": "stdout",
     "output_type": "stream",
     "text": [
      "step: 0,  loss: 30.21394,  W: 7.5235,  b: 80.5984\n",
      "step: 100,  loss: 2.88602,  W: 2.2299,  b: 79.4181\n",
      "step: 200,  loss: 2.88261,  W: 2.2601,  b: 79.2379\n",
      "step: 300,  loss: 2.88150,  W: 2.2773,  b: 79.1353\n",
      "step: 400,  loss: 2.88114,  W: 2.2871,  b: 79.0770\n",
      "step: 500,  loss: 2.88103,  W: 2.2927,  b: 79.0438\n",
      "step: 600,  loss: 2.88099,  W: 2.2958,  b: 79.0249\n",
      "step: 700,  loss: 2.88098,  W: 2.2976,  b: 79.0142\n",
      "step: 800,  loss: 2.88097,  W: 2.2987,  b: 79.0081\n",
      "step: 900,  loss: 2.88097,  W: 2.2992,  b: 79.0046\n",
      "step: 1000,  loss: 2.88097,  W: 2.2996,  b: 79.0026\n",
      "step: 1100,  loss: 2.88097,  W: 2.2998,  b: 79.0015\n",
      "step: 1200,  loss: 2.88097,  W: 2.2999,  b: 79.0008\n",
      "step: 1300,  loss: 2.88097,  W: 2.2999,  b: 79.0005\n",
      "step: 1400,  loss: 2.88097,  W: 2.3000,  b: 79.0003\n",
      "step: 1500,  loss: 2.88097,  W: 2.3000,  b: 79.0002\n",
      "step: 1600,  loss: 2.88097,  W: 2.3000,  b: 79.0001\n",
      "step: 1700,  loss: 2.88097,  W: 2.3000,  b: 79.0001\n",
      "step: 1800,  loss: 2.88097,  W: 2.3000,  b: 79.0000\n",
      "step: 1900,  loss: 2.88097,  W: 2.3000,  b: 79.0000\n",
      "step: 2000,  loss: 2.88097,  W: 2.3000,  b: 79.0000\n"
     ]
    }
   ],
   "source": [
    "with tf.Session() as sess:\n",
    "    # 변수 초기화\n",
    "    sess.run(tf.global_variables_initializer())\n",
    "    \n",
    "    for step in range(2001):\n",
    "        sess.run(loss)\n",
    "        if step  %100 == 0:\n",
    "            print(\"step: %.f,  loss: %.5f,  W: %.4f,  b: %.4f\" % (step, sess.run(rmse), sess.run(W), sess.run(b)))"
   ]
  },
  {
   "cell_type": "code",
   "execution_count": null,
   "metadata": {},
   "outputs": [],
   "source": []
  },
  {
   "cell_type": "code",
   "execution_count": null,
   "metadata": {},
   "outputs": [],
   "source": []
  },
  {
   "cell_type": "code",
   "execution_count": null,
   "metadata": {},
   "outputs": [],
   "source": []
  },
  {
   "cell_type": "code",
   "execution_count": null,
   "metadata": {},
   "outputs": [],
   "source": []
  },
  {
   "cell_type": "code",
   "execution_count": null,
   "metadata": {},
   "outputs": [],
   "source": []
  },
  {
   "cell_type": "code",
   "execution_count": null,
   "metadata": {},
   "outputs": [],
   "source": []
  }
 ],
 "metadata": {
  "kernelspec": {
   "display_name": "tf",
   "language": "python",
   "name": "tensorflow"
  },
  "language_info": {
   "codemirror_mode": {
    "name": "ipython",
    "version": 3
   },
   "file_extension": ".py",
   "mimetype": "text/x-python",
   "name": "python",
   "nbconvert_exporter": "python",
   "pygments_lexer": "ipython3",
   "version": "3.6.8"
  }
 },
 "nbformat": 4,
 "nbformat_minor": 2
}
