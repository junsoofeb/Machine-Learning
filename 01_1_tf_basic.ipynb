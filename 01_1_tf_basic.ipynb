{
 "cells": [
  {
   "cell_type": "code",
   "execution_count": 1,
   "metadata": {},
   "outputs": [],
   "source": [
    "import tensorflow as tf"
   ]
  },
  {
   "cell_type": "code",
   "execution_count": 2,
   "metadata": {},
   "outputs": [],
   "source": [
    "a = tf.constant([5,3,2])\n",
    "# 이번엔 스칼라 숫자(값)가 아닌 텐서를 입력받는 예제이다.\n",
    "# 하나의 노드에 1차원 텐서(값의 리스트,벡터)를 입력받았다."
   ]
  },
  {
   "cell_type": "code",
   "execution_count": 3,
   "metadata": {},
   "outputs": [],
   "source": [
    "# 벡터나 행렬의 원소들을 연산하여 \n",
    "# 스칼라 값을 구하는 연산은 tf.reduce_명령 사용한다.\n",
    "\n",
    "b = tf.reduce_sum(a)\n",
    "# 설정한 차원에 따라 원소들을 더한다.\n",
    "    \n",
    "c = tf.reduce_prod(a)\n",
    "# 설정한 차원에 따라 원소들을 곱한다.\n",
    "\n",
    "d = tf.reduce_max(a)\n",
    "# 설정한 차원에 따라 원소들 중에서 최댓값 선택.\n",
    "\n",
    "e = tf.reduce_min(a)\n",
    "# 설정한 차원에 따라 원소들 중에서 최솟값 선택.\n",
    "\n",
    "f = tf.reduce_mean(a)\n",
    "# 설정한 차원에 따라 원소들을 평균낸다.\n",
    "\n",
    "#그 밖에 아래와 같은 명령 등이 있다.\n",
    "#tf.reduce_all 설정한 축으로 이동하면서 and 논리 연산을 수행한다.\n",
    "#tf.reduce_any  설정한 축으로 이동하면서 or논리 연산을 수행한다."
   ]
  },
  {
   "cell_type": "code",
   "execution_count": 4,
   "metadata": {},
   "outputs": [],
   "source": [
    "sess = tf.Session() #그래프 실행을 위함"
   ]
  },
  {
   "cell_type": "code",
   "execution_count": 5,
   "metadata": {},
   "outputs": [
    {
     "name": "stdout",
     "output_type": "stream",
     "text": [
      "원소들의 합 10\n"
     ]
    }
   ],
   "source": [
    "print('원소들의 합',sess.run(b))"
   ]
  },
  {
   "cell_type": "code",
   "execution_count": 6,
   "metadata": {},
   "outputs": [
    {
     "name": "stdout",
     "output_type": "stream",
     "text": [
      "원소들의 곱 30\n"
     ]
    }
   ],
   "source": [
    "print('원소들의 곱',sess.run(c))"
   ]
  },
  {
   "cell_type": "code",
   "execution_count": 7,
   "metadata": {},
   "outputs": [
    {
     "name": "stdout",
     "output_type": "stream",
     "text": [
      "원소들 중 최댓값 5\n"
     ]
    }
   ],
   "source": [
    "print('원소들 중 최댓값',sess.run(d))"
   ]
  },
  {
   "cell_type": "code",
   "execution_count": 8,
   "metadata": {},
   "outputs": [
    {
     "name": "stdout",
     "output_type": "stream",
     "text": [
      "원소들 중 최솟값 2\n"
     ]
    }
   ],
   "source": [
    "print('원소들 중 최솟값',sess.run(e))"
   ]
  },
  {
   "cell_type": "code",
   "execution_count": 9,
   "metadata": {},
   "outputs": [
    {
     "name": "stdout",
     "output_type": "stream",
     "text": [
      "원소들의 평균 3\n"
     ]
    }
   ],
   "source": [
    "print('원소들의 평균',sess.run(f)) "
   ]
  },
  {
   "cell_type": "code",
   "execution_count": null,
   "metadata": {},
   "outputs": [],
   "source": [
    "# 평균을 보면 10 / 3 = 3.333334 인데 [5,3,2]가 모두 정수형이라서 정수만 나왔다."
   ]
  }
 ],
 "metadata": {
  "kernelspec": {
   "display_name": "tf",
   "language": "python",
   "name": "tensorflow"
  },
  "language_info": {
   "codemirror_mode": {
    "name": "ipython",
    "version": 3
   },
   "file_extension": ".py",
   "mimetype": "text/x-python",
   "name": "python",
   "nbconvert_exporter": "python",
   "pygments_lexer": "ipython3",
   "version": "3.6.8"
  }
 },
 "nbformat": 4,
 "nbformat_minor": 2
}
