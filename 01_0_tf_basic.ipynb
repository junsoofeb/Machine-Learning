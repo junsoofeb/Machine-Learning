{
 "cells": [
  {
   "cell_type": "code",
   "execution_count": 1,
   "metadata": {},
   "outputs": [],
   "source": [
    "import tensorflow as tf #텐서플로우 라이브러리 임포트하고 이름을 tf라고 한다."
   ]
  },
  {
   "cell_type": "code",
   "execution_count": 2,
   "metadata": {},
   "outputs": [],
   "source": [
    "a = tf.constant(5, name='input_a') #tf.constant() - 상수 생성하는 Operation. \n",
    "b = tf.constant(3, name='input_b') #하나의 텐서 값을 받아서 연결된 노드에 같은 값을 출력한다."
   ]
  },
  {
   "cell_type": "code",
   "execution_count": 3,
   "metadata": {},
   "outputs": [],
   "source": [
    "c = tf.add(a,b, name='add_c')\n",
    "d = tf.subtract(a,b, name='sub_d')\n",
    "e = tf.multiply(a,b, name='mul_e')\n",
    "f = tf.div(a,b, name='div_f') #정수형 텐서인 경우 원소간 정수 나눗셈, 실수형 텐서인 경우 원소간 실수 나눗셈\n",
    "g = tf.truediv(a,b, name='truediv_g') #요소간 실수 나눗셈"
   ]
  },
  {
   "cell_type": "code",
   "execution_count": 4,
   "metadata": {},
   "outputs": [],
   "source": [
    "sess = tf.Session()"
   ]
  },
  {
   "cell_type": "code",
   "execution_count": 5,
   "metadata": {},
   "outputs": [
    {
     "name": "stdout",
     "output_type": "stream",
     "text": [
      "a = 5   b = 3 \n",
      "\n",
      "a + b = 8\n",
      "a - b = 2\n",
      "a * b = 15\n",
      "a % b = 1\n",
      "a % b = 1.6666666666666667\n"
     ]
    }
   ],
   "source": [
    "print('a =',sess.run(a),'  b =',sess.run(b),'\\n')\n",
    "print('a + b =',sess.run(c))\n",
    "print('a - b =',sess.run(d))\n",
    "print('a * b =',sess.run(e))\n",
    "print('a % b =',sess.run(f))\n",
    "print('a % b =',sess.run(g))"
   ]
  },
  {
   "cell_type": "code",
   "execution_count": null,
   "metadata": {},
   "outputs": [],
   "source": []
  }
 ],
 "metadata": {
  "kernelspec": {
   "display_name": "tf",
   "language": "python",
   "name": "tensorflow"
  },
  "language_info": {
   "codemirror_mode": {
    "name": "ipython",
    "version": 3
   },
   "file_extension": ".py",
   "mimetype": "text/x-python",
   "name": "python",
   "nbconvert_exporter": "python",
   "pygments_lexer": "ipython3",
   "version": "3.6.8"
  }
 },
 "nbformat": 4,
 "nbformat_minor": 2
}
