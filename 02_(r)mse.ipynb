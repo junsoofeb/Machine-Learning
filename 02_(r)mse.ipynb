{
 "cells": [
  {
   "cell_type": "code",
   "execution_count": 11,
   "metadata": {},
   "outputs": [],
   "source": [
    "import numpy as np"
   ]
  },
  {
   "cell_type": "code",
   "execution_count": 12,
   "metadata": {},
   "outputs": [],
   "source": [
    "Wb = [3, 76] # weight와 bias"
   ]
  },
  {
   "cell_type": "code",
   "execution_count": 13,
   "metadata": {},
   "outputs": [],
   "source": [
    "# [공부한 시간, 실제 점수]\n",
    "\n",
    "data = [[2, 81], [4, 93], [6, 91], [8, 97]] \n",
    "x = [i[0] for i in data]\n",
    "y = [i[1] for i in data]"
   ]
  },
  {
   "cell_type": "code",
   "execution_count": 14,
   "metadata": {},
   "outputs": [],
   "source": [
    "# y =Wx + b 에 W,b값 넣어서 결과 예측하는 함수\n",
    "\n",
    "def predict(x):\n",
    "    \n",
    "    return Wb[0]*x + Wb[1]"
   ]
  },
  {
   "cell_type": "code",
   "execution_count": 15,
   "metadata": {},
   "outputs": [],
   "source": [
    "# Mean Square Error구현\n",
    "# y는 실제 값, y_predict는 예측 값\n",
    "\n",
    "def mse(y, y_predict):\n",
    "    \n",
    "    return ((y - y_predict)** 2).mean()\n",
    "\n",
    "# tensorflow로 구현하면\n",
    "# mse = tf.reduce_mean(tf.square(y - y_predirt))"
   ]
  },
  {
   "cell_type": "code",
   "execution_count": 16,
   "metadata": {},
   "outputs": [],
   "source": [
    "# Root Mean Square Error구현\n",
    "\n",
    "def rmse(y, y_predict):\n",
    "    \n",
    "    return np.sqrt(((y - y_predict)** 2).mean())\n",
    "\n",
    "# tensorflow로 구현하면\n",
    "# rmse = tf.sqrt(tf.reduce_mean(tf.square(y - y_predirt)))\n"
   ]
  },
  {
   "cell_type": "code",
   "execution_count": 17,
   "metadata": {},
   "outputs": [],
   "source": [
    "# (R)MSE 함수를 이용하여 실제값과 예측값 사이의 오차를 계산하는 함수\n",
    "\n",
    "def loss(y,y_predict):\n",
    "    \n",
    "    return rmse(np.array(y_predict),np.array(y))"
   ]
  },
  {
   "cell_type": "code",
   "execution_count": 18,
   "metadata": {},
   "outputs": [
    {
     "name": "stdout",
     "output_type": "stream",
     "text": [
      "공부한 시간 = 2, 실제 점수 = 81, 예측 점수 = 82\n",
      "공부한 시간 = 4, 실제 점수 = 93, 예측 점수 = 88\n",
      "공부한 시간 = 6, 실제 점수 = 91, 예측 점수 = 94\n",
      "공부한 시간 = 8, 실제 점수 = 97, 예측 점수 = 100\n"
     ]
    }
   ],
   "source": [
    "# 예측 값 담을 리스트 생성 및 값 넣기\n",
    "\n",
    "y_predict= []\n",
    "\n",
    "for i in range(len(x)):\n",
    "    y_predict.append(predict(x[i]))\n",
    "    print(\"공부한 시간 = %.f, 실제 점수 = %.f, 예측 점수 = %.f\" % (x[i], y[i],predict(x[i])))"
   ]
  },
  {
   "cell_type": "code",
   "execution_count": 20,
   "metadata": {},
   "outputs": [
    {
     "name": "stdout",
     "output_type": "stream",
     "text": [
      "RMSE 결과(오차) 값 : 3.3166247903554\n"
     ]
    }
   ],
   "source": [
    "print(\"RMSE 결과(오차) 값 : \" + str(loss(y,y_predict)))"
   ]
  },
  {
   "cell_type": "code",
   "execution_count": null,
   "metadata": {},
   "outputs": [],
   "source": []
  }
 ],
 "metadata": {
  "kernelspec": {
   "display_name": "tf",
   "language": "python",
   "name": "tensorflow"
  },
  "language_info": {
   "codemirror_mode": {
    "name": "ipython",
    "version": 3
   },
   "file_extension": ".py",
   "mimetype": "text/x-python",
   "name": "python",
   "nbconvert_exporter": "python",
   "pygments_lexer": "ipython3",
   "version": "3.6.8"
  }
 },
 "nbformat": 4,
 "nbformat_minor": 2
}
