{
 "cells": [
  {
   "cell_type": "code",
   "execution_count": 1,
   "metadata": {},
   "outputs": [],
   "source": [
    "import tensorflow as tf"
   ]
  },
  {
   "cell_type": "code",
   "execution_count": 2,
   "metadata": {},
   "outputs": [],
   "source": [
    "W = tf.Variable(tf.zeros([2, 1]), name='weights') # 웨이트의 전치행렬을 구하는 대신 열 벡터로 표현했음\n",
    "b = tf.Variable(0., name='bias')"
   ]
  },
  {
   "cell_type": "code",
   "execution_count": 3,
   "metadata": {},
   "outputs": [],
   "source": [
    "def inference(X):\n",
    "    return tf.matmul(X, W) + b"
   ]
  },
  {
   "cell_type": "code",
   "execution_count": 4,
   "metadata": {},
   "outputs": [],
   "source": [
    "def loss(X, Y):\n",
    "    Y_predicted = inference(X)\n",
    "    return tf.reduce_sum(tf.squared_difference(Y, Y_predicted)) # 제곱 에러(squared error) 사용해서 손실 계산"
   ]
  },
  {
   "cell_type": "code",
   "execution_count": 5,
   "metadata": {},
   "outputs": [],
   "source": [
    "def inputs(): # 몸무게와 나이 그리고 혈중 지방성분과의 관계를 알아보고자 함.\n",
    "              # http://people.sc.fsu.edu/~jburkardt/datasets/regression/x09.txt 데이터 출처\n",
    "    \n",
    "    weight_age = [[84, 46], [73, 20], [65, 52], [70, 30], [76, 57], [69, 25], [63, 28],\n",
    "                  [72, 36], [79, 57], [75, 44], [27, 24],[89, 31], [65 ,52], [57, 23],[59, 60], [69, 48],\n",
    "                  [60, 34], [79, 51], [75, 50], [82, 34], [59, 46], [67, 23], [85, 37], [55, 40], [63, 30]]\n",
    "    \n",
    "    blood_fat_content = [354, 190, 405, 263, 451, 302, 288, 385, 402, 365, 209, 290, \n",
    "                         346, 254, 395, 434, 220, 374, 308, 220, 311, 181, 274, 303, 244]\n",
    "    \n",
    "    return tf.to_float(weight_age), tf.to_float(blood_fat_content)"
   ]
  },
  {
   "cell_type": "code",
   "execution_count": 6,
   "metadata": {},
   "outputs": [],
   "source": [
    "def train(total_loss):\n",
    "    learning_rate = 0.0000001\n",
    "    return tf.train.GradientDescentOptimizer(learning_rate).minimize(total_loss) \n",
    "    # 기울기 하강 알고리즘 사용해서 모델의 파라미터 최적화"
   ]
  },
  {
   "cell_type": "code",
   "execution_count": 7,
   "metadata": {},
   "outputs": [],
   "source": [
    "def evaluate(sess, X, Y):\n",
    "    print(sess.run(inference([[80. , 25.]])))\n",
    "    print(sess.run(inference([[65. , 25.]])))"
   ]
  },
  {
   "cell_type": "code",
   "execution_count": 9,
   "metadata": {},
   "outputs": [
    {
     "name": "stdout",
     "output_type": "stream",
     "text": [
      "WARNING:tensorflow:From <ipython-input-9-4d19717b25a3>:11: start_queue_runners (from tensorflow.python.training.queue_runner_impl) is deprecated and will be removed in a future version.\n",
      "Instructions for updating:\n",
      "To construct input pipelines, use the `tf.data` module.\n",
      "WARNING:tensorflow:`tf.train.start_queue_runners()` was called when no queue runners were defined. You can safely remove the call to this deprecated function.\n",
      "loss: [7608772.5]\n",
      "loss: [5352850.0]\n",
      "loss: [5350044.5]\n",
      "loss: [5347918.0]\n",
      "loss: [5346300.5]\n",
      "loss: [5345061.5]\n",
      "loss: [5344105.5]\n",
      "loss: [5343361.5]\n",
      "loss: [5342775.0]\n",
      "loss: [5342305.5]\n",
      "loss: [5341925.0]\n",
      "loss: [5341611.0]\n",
      "loss: [5341344.5]\n",
      "loss: [5341115.5]\n",
      "loss: [5340914.0]\n",
      "loss: [5340733.0]\n",
      "loss: [5340567.5]\n",
      "loss: [5340412.5]\n",
      "loss: [5340266.5]\n",
      "loss: [5340127.5]\n",
      "loss: [5339993.0]\n",
      "loss: [5339860.5]\n",
      "loss: [5339732.5]\n",
      "loss: [5339606.0]\n",
      "loss: [5339480.5]\n",
      "loss: [5339357.0]\n",
      "loss: [5339233.5]\n",
      "loss: [5339111.5]\n",
      "loss: [5338989.5]\n",
      "loss: [5338868.0]\n",
      "loss: [5338746.5]\n",
      "loss: [5338626.0]\n",
      "loss: [5338504.5]\n",
      "loss: [5338384.0]\n",
      "loss: [5338263.0]\n",
      "loss: [5338142.5]\n",
      "loss: [5338021.5]\n",
      "loss: [5337900.5]\n",
      "loss: [5337780.5]\n",
      "loss: [5337660.0]\n",
      "loss: [5337539.0]\n",
      "loss: [5337418.0]\n",
      "loss: [5337297.5]\n",
      "loss: [5337177.5]\n",
      "loss: [5337057.0]\n",
      "loss: [5336936.0]\n",
      "loss: [5336815.5]\n",
      "loss: [5336695.5]\n",
      "loss: [5336575.5]\n",
      "loss: [5336454.5]\n",
      "loss: [5336334.0]\n",
      "loss: [5336214.0]\n",
      "loss: [5336093.0]\n",
      "loss: [5335973.0]\n",
      "loss: [5335852.5]\n",
      "loss: [5335732.0]\n",
      "loss: [5335611.5]\n",
      "loss: [5335490.5]\n",
      "loss: [5335370.5]\n",
      "loss: [5335250.5]\n",
      "loss: [5335129.5]\n",
      "loss: [5335009.5]\n",
      "loss: [5334890.0]\n",
      "loss: [5334769.0]\n",
      "loss: [5334649.0]\n",
      "loss: [5334528.0]\n",
      "loss: [5334407.5]\n",
      "loss: [5334287.0]\n",
      "loss: [5334167.0]\n",
      "loss: [5334046.5]\n",
      "loss: [5333926.5]\n",
      "loss: [5333806.0]\n",
      "loss: [5333686.5]\n",
      "loss: [5333565.5]\n",
      "loss: [5333446.5]\n",
      "loss: [5333326.0]\n",
      "loss: [5333205.5]\n",
      "loss: [5333085.0]\n",
      "loss: [5332964.5]\n",
      "loss: [5332844.0]\n",
      "loss: [5332724.0]\n",
      "loss: [5332604.0]\n",
      "loss: [5332484.5]\n",
      "loss: [5332363.5]\n",
      "loss: [5332242.5]\n",
      "loss: [5332123.5]\n",
      "loss: [5332003.5]\n",
      "loss: [5331883.5]\n",
      "loss: [5331763.0]\n",
      "loss: [5331643.5]\n",
      "loss: [5331522.5]\n",
      "loss: [5331403.0]\n",
      "loss: [5331283.0]\n",
      "loss: [5331162.0]\n",
      "loss: [5331042.0]\n",
      "loss: [5330923.0]\n",
      "loss: [5330802.5]\n",
      "loss: [5330682.5]\n",
      "loss: [5330562.5]\n",
      "loss: [5330442.0]\n",
      "[[320.6497]]\n",
      "[[267.78183]]\n"
     ]
    }
   ],
   "source": [
    "with tf.Session() as sess:\n",
    "    \n",
    "    tf.global_variables_initializer().run()\n",
    "    \n",
    "    X, Y = inputs()\n",
    "    \n",
    "    total_loss = loss(X, Y)\n",
    "    train_op = train(total_loss)\n",
    "    \n",
    "    coord = tf.train.Coordinator()\n",
    "    threads = tf.train.start_queue_runners(sess=sess, coord=coord) # tensorflow 다음 버전에서는 tf.data 모듈 이용해야함\n",
    "    \n",
    "    training_steps = 1000\n",
    "    \n",
    "    for step in range(training_steps):\n",
    "        sess.run([train_op])\n",
    "        \n",
    "        if step % 10 == 0:\n",
    "            print('loss:', sess.run([total_loss]))\n",
    "                  \n",
    "    evaluate(sess, X, Y)\n",
    "    \n",
    "    coord.request_stop()\n",
    "    coord.join(threads)\n",
    "    sess.close()"
   ]
  },
  {
   "cell_type": "code",
   "execution_count": null,
   "metadata": {},
   "outputs": [],
   "source": []
  }
 ],
 "metadata": {
  "kernelspec": {
   "display_name": "tf",
   "language": "python",
   "name": "tensorflow"
  },
  "language_info": {
   "codemirror_mode": {
    "name": "ipython",
    "version": 3
   },
   "file_extension": ".py",
   "mimetype": "text/x-python",
   "name": "python",
   "nbconvert_exporter": "python",
   "pygments_lexer": "ipython3",
   "version": "3.6.8"
  }
 },
 "nbformat": 4,
 "nbformat_minor": 2
}
